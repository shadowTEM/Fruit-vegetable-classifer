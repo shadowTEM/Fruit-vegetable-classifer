{
 "cells": [
  {
   "cell_type": "markdown",
   "metadata": {},
   "source": [
    "<h2>Importing Libary<h2>"
   ]
  },
  {
   "cell_type": "code",
   "execution_count": 3,
   "metadata": {},
   "outputs": [],
   "source": [
    "import tensorflow as tf\n",
    "from keras.preprocessing.image import ImageDataGenerator\n",
    "import matplotlib.pyplot as plt"
   ]
  },
  {
   "cell_type": "markdown",
   "metadata": {},
   "source": [
    "<h2>Training Image Preprocessing<h2> "
   ]
  },
  {
   "cell_type": "code",
   "execution_count": 4,
   "metadata": {},
   "outputs": [
    {
     "name": "stdout",
     "output_type": "stream",
     "text": [
      "Found 3115 files belonging to 36 classes.\n"
     ]
    }
   ],
   "source": [
    "training_set = tf.keras.utils.image_dataset_from_directory(\n",
    "    'G:\\\\Fruit and veg\\\\Fruit_recognition\\\\archive (1)\\\\train',\n",
    "    labels='inferred',  #labels are generated from the directory structure\n",
    "    label_mode='categorical', #means data can be anything img,strings,etc encode as a categorical vector\n",
    "    class_names=None, #to control order\n",
    "    color_mode='rgb', #type of image color\n",
    "    batch_size=32, #the number of samples  to estimate the error gradient before the model weight are updated\n",
    "    image_size=(64, 64), #image size pixel x pixel\n",
    "    shuffle=True, #select samples at random\n",
    "    seed= None, #to save the seed of model so it can produce same result\n",
    "    validation_split= None, #to split data for validation\n",
    "    subset= None, #this return dataset of training data or validation data or both if validation is set\n",
    "    interpolation='bilinear', #to estimate the values of unknown data points that fall in between existing, known data points.\n",
    "    follow_links=False, #if you want to follow other links\n",
    "    crop_to_aspect_ratio=False #will change the aspect ratio of an image if it doesn't match the targeted images ratio (when True)\n",
    ")\n"
   ]
  },
  {
   "cell_type": "markdown",
   "metadata": {},
   "source": [
    "<h2>Validation Image Preprocessing<h2>"
   ]
  },
  {
   "cell_type": "code",
   "execution_count": 5,
   "metadata": {},
   "outputs": [
    {
     "name": "stdout",
     "output_type": "stream",
     "text": [
      "Found 351 files belonging to 36 classes.\n"
     ]
    }
   ],
   "source": [
    "validation_set = tf.keras.utils.image_dataset_from_directory(\n",
    "    'G:\\\\Fruit and veg\\\\Fruit_recognition\\\\archive (1)\\\\validation',\n",
    "    labels=\"inferred\",\n",
    "    label_mode=\"categorical\",\n",
    "    class_names=None,\n",
    "    color_mode=\"rgb\",\n",
    "    batch_size=32,\n",
    "    image_size=(64, 64),\n",
    "    shuffle=True,\n",
    "    seed=None,\n",
    "    validation_split=None,\n",
    "    subset=None,\n",
    "    interpolation=\"bilinear\",\n",
    "    follow_links=False,\n",
    "    crop_to_aspect_ratio=False,\n",
    ")"
   ]
  },
  {
   "cell_type": "markdown",
   "metadata": {},
   "source": [
    "<h2>Building Model<h2>"
   ]
  },
  {
   "cell_type": "code",
   "execution_count": 6,
   "metadata": {},
   "outputs": [],
   "source": [
    "cnn = tf.keras.models.Sequential()"
   ]
  },
  {
   "cell_type": "markdown",
   "metadata": {},
   "source": [
    "<h2>Building Convolution Layers<h2>"
   ]
  },
  {
   "cell_type": "code",
   "execution_count": 7,
   "metadata": {},
   "outputs": [],
   "source": [
    "cnn.add(tf.keras.layers.Conv2D(filters=32,kernel_size=3,activation='relu',input_shape=[64,64,3]))\n",
    "cnn.add(tf.keras.layers.Conv2D(filters=32,kernel_size=3,activation='relu'))\n",
    "cnn.add(tf.keras.layers.MaxPool2D(pool_size=2,strides=2))\n"
   ]
  },
  {
   "cell_type": "code",
   "execution_count": 8,
   "metadata": {},
   "outputs": [],
   "source": [
    "cnn.add(tf.keras.layers.Conv2D(filters=64,kernel_size=3,activation='relu'))\n",
    "cnn.add(tf.keras.layers.Conv2D(filters=64,kernel_size=3,activation='relu'))\n",
    "cnn.add(tf.keras.layers.MaxPool2D(pool_size=2,strides=2))"
   ]
  },
  {
   "cell_type": "code",
   "execution_count": 9,
   "metadata": {},
   "outputs": [],
   "source": [
    "cnn.add(tf.keras.layers.Flatten())"
   ]
  },
  {
   "cell_type": "code",
   "execution_count": 10,
   "metadata": {},
   "outputs": [],
   "source": [
    "cnn.add(tf.keras.layers.Dense(units=512,activation='relu'))"
   ]
  },
  {
   "cell_type": "code",
   "execution_count": 11,
   "metadata": {},
   "outputs": [],
   "source": [
    "cnn.add(tf.keras.layers.Dense(units=256,activation='relu'))"
   ]
  },
  {
   "cell_type": "code",
   "execution_count": 12,
   "metadata": {},
   "outputs": [],
   "source": [
    "cnn.add(tf.keras.layers.Dropout(0.5)) #we are dropping some neuron to avoid overfitting"
   ]
  },
  {
   "cell_type": "code",
   "execution_count": 13,
   "metadata": {},
   "outputs": [],
   "source": [
    "#Output Layer\n",
    "cnn.add(tf.keras.layers.Dense(units=36,activation='softmax')) "
   ]
  },
  {
   "cell_type": "markdown",
   "metadata": {},
   "source": [
    "<h2>Compiling and Training Phase<h2>"
   ]
  },
  {
   "cell_type": "code",
   "execution_count": 14,
   "metadata": {},
   "outputs": [],
   "source": [
    "cnn.compile(optimizer='adam',loss='categorical_crossentropy',metrics=('accuracy'))"
   ]
  },
  {
   "cell_type": "code",
   "execution_count": 15,
   "metadata": {},
   "outputs": [
    {
     "name": "stdout",
     "output_type": "stream",
     "text": [
      "Model: \"sequential\"\n",
      "_________________________________________________________________\n",
      " Layer (type)                Output Shape              Param #   \n",
      "=================================================================\n",
      " conv2d (Conv2D)             (None, 62, 62, 32)        896       \n",
      "                                                                 \n",
      " conv2d_1 (Conv2D)           (None, 60, 60, 32)        9248      \n",
      "                                                                 \n",
      " max_pooling2d (MaxPooling2  (None, 30, 30, 32)        0         \n",
      " D)                                                              \n",
      "                                                                 \n",
      " conv2d_2 (Conv2D)           (None, 28, 28, 64)        18496     \n",
      "                                                                 \n",
      " conv2d_3 (Conv2D)           (None, 26, 26, 64)        36928     \n",
      "                                                                 \n",
      " max_pooling2d_1 (MaxPoolin  (None, 13, 13, 64)        0         \n",
      " g2D)                                                            \n",
      "                                                                 \n",
      " flatten (Flatten)           (None, 10816)             0         \n",
      "                                                                 \n",
      " dense (Dense)               (None, 512)               5538304   \n",
      "                                                                 \n",
      " dense_1 (Dense)             (None, 256)               131328    \n",
      "                                                                 \n",
      " dropout (Dropout)           (None, 256)               0         \n",
      "                                                                 \n",
      " dense_2 (Dense)             (None, 36)                9252      \n",
      "                                                                 \n",
      "=================================================================\n",
      "Total params: 5744452 (21.91 MB)\n",
      "Trainable params: 5744452 (21.91 MB)\n",
      "Non-trainable params: 0 (0.00 Byte)\n",
      "_________________________________________________________________\n"
     ]
    }
   ],
   "source": [
    "cnn.summary()"
   ]
  },
  {
   "cell_type": "code",
   "execution_count": 33,
   "metadata": {},
   "outputs": [
    {
     "name": "stdout",
     "output_type": "stream",
     "text": [
      "Epoch 1/32\n"
     ]
    },
    {
     "name": "stdout",
     "output_type": "stream",
     "text": [
      "98/98 [==============================] - 41s 390ms/step - loss: 0.7805 - accuracy: 0.7807 - val_loss: 1.1555 - val_accuracy: 0.8120\n",
      "Epoch 2/32\n",
      "98/98 [==============================] - 41s 398ms/step - loss: 0.7531 - accuracy: 0.7862 - val_loss: 1.0117 - val_accuracy: 0.8234\n",
      "Epoch 3/32\n",
      "98/98 [==============================] - 39s 374ms/step - loss: 0.7235 - accuracy: 0.7981 - val_loss: 1.0751 - val_accuracy: 0.8063\n",
      "Epoch 4/32\n",
      "98/98 [==============================] - 37s 357ms/step - loss: 0.7553 - accuracy: 0.7920 - val_loss: 0.9753 - val_accuracy: 0.8376\n",
      "Epoch 5/32\n",
      "98/98 [==============================] - 36s 342ms/step - loss: 0.7137 - accuracy: 0.7974 - val_loss: 1.0447 - val_accuracy: 0.8177\n",
      "Epoch 6/32\n",
      "98/98 [==============================] - 35s 337ms/step - loss: 0.6251 - accuracy: 0.8215 - val_loss: 1.1699 - val_accuracy: 0.8006\n",
      "Epoch 7/32\n",
      "98/98 [==============================] - 38s 368ms/step - loss: 0.6851 - accuracy: 0.8112 - val_loss: 1.0800 - val_accuracy: 0.8091\n",
      "Epoch 8/32\n",
      "98/98 [==============================] - 38s 357ms/step - loss: 0.6552 - accuracy: 0.8231 - val_loss: 1.1220 - val_accuracy: 0.8348\n",
      "Epoch 9/32\n",
      "98/98 [==============================] - 42s 404ms/step - loss: 0.6483 - accuracy: 0.8170 - val_loss: 1.0909 - val_accuracy: 0.8490\n",
      "Epoch 10/32\n",
      "98/98 [==============================] - 36s 341ms/step - loss: 0.6044 - accuracy: 0.8315 - val_loss: 0.8845 - val_accuracy: 0.8746\n",
      "Epoch 11/32\n",
      "98/98 [==============================] - 35s 338ms/step - loss: 0.5479 - accuracy: 0.8453 - val_loss: 0.8569 - val_accuracy: 0.8917\n",
      "Epoch 12/32\n",
      "98/98 [==============================] - 37s 357ms/step - loss: 0.5849 - accuracy: 0.8417 - val_loss: 1.0125 - val_accuracy: 0.8661\n",
      "Epoch 13/32\n",
      "98/98 [==============================] - 36s 342ms/step - loss: 0.5366 - accuracy: 0.8443 - val_loss: 1.0434 - val_accuracy: 0.8803\n",
      "Epoch 14/32\n",
      "98/98 [==============================] - 35s 338ms/step - loss: 0.5634 - accuracy: 0.8546 - val_loss: 0.8482 - val_accuracy: 0.8889\n",
      "Epoch 15/32\n",
      "98/98 [==============================] - 36s 341ms/step - loss: 0.5441 - accuracy: 0.8507 - val_loss: 0.7983 - val_accuracy: 0.9088\n",
      "Epoch 16/32\n",
      "98/98 [==============================] - 37s 347ms/step - loss: 0.5436 - accuracy: 0.8543 - val_loss: 0.7845 - val_accuracy: 0.9174\n",
      "Epoch 17/32\n",
      "98/98 [==============================] - 36s 339ms/step - loss: 0.4896 - accuracy: 0.8674 - val_loss: 0.8736 - val_accuracy: 0.8946\n",
      "Epoch 18/32\n",
      "98/98 [==============================] - 36s 339ms/step - loss: 0.5086 - accuracy: 0.8697 - val_loss: 0.9274 - val_accuracy: 0.8860\n",
      "Epoch 19/32\n",
      "98/98 [==============================] - 35s 336ms/step - loss: 0.6100 - accuracy: 0.8366 - val_loss: 0.8512 - val_accuracy: 0.9174\n",
      "Epoch 20/32\n",
      "98/98 [==============================] - 41s 399ms/step - loss: 0.4377 - accuracy: 0.8787 - val_loss: 0.9410 - val_accuracy: 0.9231\n",
      "Epoch 21/32\n",
      "98/98 [==============================] - 39s 372ms/step - loss: 0.4534 - accuracy: 0.8815 - val_loss: 1.2250 - val_accuracy: 0.8775\n",
      "Epoch 22/32\n",
      "98/98 [==============================] - 37s 358ms/step - loss: 0.5094 - accuracy: 0.8677 - val_loss: 0.9681 - val_accuracy: 0.8946\n",
      "Epoch 23/32\n",
      "98/98 [==============================] - 41s 386ms/step - loss: 0.3819 - accuracy: 0.8928 - val_loss: 1.0120 - val_accuracy: 0.9259\n",
      "Epoch 24/32\n",
      "98/98 [==============================] - 38s 358ms/step - loss: 0.3519 - accuracy: 0.8982 - val_loss: 0.8522 - val_accuracy: 0.9288\n",
      "Epoch 25/32\n",
      "98/98 [==============================] - 37s 358ms/step - loss: 0.3346 - accuracy: 0.9021 - val_loss: 1.0400 - val_accuracy: 0.9259\n",
      "Epoch 26/32\n",
      "98/98 [==============================] - 37s 352ms/step - loss: 0.3714 - accuracy: 0.9011 - val_loss: 1.0662 - val_accuracy: 0.9174\n",
      "Epoch 27/32\n",
      "98/98 [==============================] - 37s 356ms/step - loss: 0.4221 - accuracy: 0.8905 - val_loss: 0.8287 - val_accuracy: 0.9259\n",
      "Epoch 28/32\n",
      "98/98 [==============================] - 38s 364ms/step - loss: 0.3232 - accuracy: 0.9082 - val_loss: 0.9080 - val_accuracy: 0.9003\n",
      "Epoch 29/32\n",
      "98/98 [==============================] - 38s 357ms/step - loss: 0.3531 - accuracy: 0.9072 - val_loss: 1.1298 - val_accuracy: 0.9174\n",
      "Epoch 30/32\n",
      "98/98 [==============================] - 39s 374ms/step - loss: 0.3712 - accuracy: 0.8986 - val_loss: 0.9670 - val_accuracy: 0.9202\n",
      "Epoch 31/32\n",
      "98/98 [==============================] - 35s 338ms/step - loss: 0.3729 - accuracy: 0.8966 - val_loss: 0.8889 - val_accuracy: 0.9174\n",
      "Epoch 32/32\n",
      "98/98 [==============================] - 36s 343ms/step - loss: 0.3380 - accuracy: 0.9072 - val_loss: 1.0539 - val_accuracy: 0.8946\n"
     ]
    }
   ],
   "source": [
    "train_history = cnn.fit(x=training_set,validation_data=validation_set,epochs=32)"
   ]
  },
  {
   "cell_type": "markdown",
   "metadata": {},
   "source": [
    "<h2>Saving Model<h2>"
   ]
  },
  {
   "cell_type": "code",
   "execution_count": 34,
   "metadata": {},
   "outputs": [],
   "source": [
    "cnn.save('trained_model.h5')"
   ]
  },
  {
   "cell_type": "code",
   "execution_count": 35,
   "metadata": {},
   "outputs": [
    {
     "data": {
      "text/plain": [
       "{'loss': [0.780478835105896,\n",
       "  0.7530649900436401,\n",
       "  0.7234881520271301,\n",
       "  0.7552514672279358,\n",
       "  0.7136840224266052,\n",
       "  0.6251446604728699,\n",
       "  0.6851490139961243,\n",
       "  0.6552417874336243,\n",
       "  0.6483237743377686,\n",
       "  0.6043605208396912,\n",
       "  0.5478896498680115,\n",
       "  0.5849120020866394,\n",
       "  0.5365715026855469,\n",
       "  0.5633919835090637,\n",
       "  0.5440511703491211,\n",
       "  0.5435839295387268,\n",
       "  0.4896296560764313,\n",
       "  0.5086402893066406,\n",
       "  0.6099722385406494,\n",
       "  0.43774011731147766,\n",
       "  0.4533880650997162,\n",
       "  0.5094302296638489,\n",
       "  0.38192567229270935,\n",
       "  0.3519041836261749,\n",
       "  0.33459022641181946,\n",
       "  0.37137991189956665,\n",
       "  0.42212894558906555,\n",
       "  0.3232055902481079,\n",
       "  0.35312485694885254,\n",
       "  0.371213436126709,\n",
       "  0.37285909056663513,\n",
       "  0.33800995349884033],\n",
       " 'accuracy': [0.780738353729248,\n",
       "  0.7861958146095276,\n",
       "  0.7980738282203674,\n",
       "  0.7919743061065674,\n",
       "  0.7974317669868469,\n",
       "  0.8215088248252869,\n",
       "  0.8112359642982483,\n",
       "  0.8231139779090881,\n",
       "  0.8170144557952881,\n",
       "  0.8314606547355652,\n",
       "  0.8452648520469666,\n",
       "  0.8417335748672485,\n",
       "  0.8443017601966858,\n",
       "  0.8545746207237244,\n",
       "  0.8507223129272461,\n",
       "  0.8542535901069641,\n",
       "  0.867415726184845,\n",
       "  0.8696629405021667,\n",
       "  0.8365970849990845,\n",
       "  0.8786516785621643,\n",
       "  0.8815409541130066,\n",
       "  0.8677367568016052,\n",
       "  0.8927769064903259,\n",
       "  0.8982343673706055,\n",
       "  0.9020866751670837,\n",
       "  0.901123583316803,\n",
       "  0.8905296921730042,\n",
       "  0.9081861972808838,\n",
       "  0.907223105430603,\n",
       "  0.8985553979873657,\n",
       "  0.8966292142868042,\n",
       "  0.907223105430603],\n",
       " 'val_loss': [1.1554721593856812,\n",
       "  1.0117313861846924,\n",
       "  1.0751452445983887,\n",
       "  0.97528076171875,\n",
       "  1.0447157621383667,\n",
       "  1.1698988676071167,\n",
       "  1.0800169706344604,\n",
       "  1.1220290660858154,\n",
       "  1.090912103652954,\n",
       "  0.8844966292381287,\n",
       "  0.8569316864013672,\n",
       "  1.0125261545181274,\n",
       "  1.0433685779571533,\n",
       "  0.8482280969619751,\n",
       "  0.7983105182647705,\n",
       "  0.7845146059989929,\n",
       "  0.8736435770988464,\n",
       "  0.9273543357849121,\n",
       "  0.8511604070663452,\n",
       "  0.9410273432731628,\n",
       "  1.2249516248703003,\n",
       "  0.9681385159492493,\n",
       "  1.0119777917861938,\n",
       "  0.8522337079048157,\n",
       "  1.0399610996246338,\n",
       "  1.0662472248077393,\n",
       "  0.8286898732185364,\n",
       "  0.908004105091095,\n",
       "  1.1297911405563354,\n",
       "  0.9669742584228516,\n",
       "  0.8888700008392334,\n",
       "  1.0538932085037231],\n",
       " 'val_accuracy': [0.811965823173523,\n",
       "  0.8233618140220642,\n",
       "  0.8062677979469299,\n",
       "  0.8376068472862244,\n",
       "  0.8176637887954712,\n",
       "  0.8005697727203369,\n",
       "  0.809116780757904,\n",
       "  0.8347578644752502,\n",
       "  0.8490028381347656,\n",
       "  0.874643862247467,\n",
       "  0.8917378783226013,\n",
       "  0.8660968542098999,\n",
       "  0.8803418874740601,\n",
       "  0.8888888955116272,\n",
       "  0.9088318943977356,\n",
       "  0.9173789024353027,\n",
       "  0.8945869207382202,\n",
       "  0.8860399127006531,\n",
       "  0.9173789024353027,\n",
       "  0.9230769276618958,\n",
       "  0.8774929046630859,\n",
       "  0.8945869207382202,\n",
       "  0.9259259104728699,\n",
       "  0.9287749528884888,\n",
       "  0.9259259104728699,\n",
       "  0.9173789024353027,\n",
       "  0.9259259104728699,\n",
       "  0.9002848863601685,\n",
       "  0.9173789024353027,\n",
       "  0.9202279448509216,\n",
       "  0.9173789024353027,\n",
       "  0.8945869207382202]}"
      ]
     },
     "execution_count": 35,
     "metadata": {},
     "output_type": "execute_result"
    }
   ],
   "source": [
    "train_history.history #Return Dictionary of history"
   ]
  },
  {
   "cell_type": "code",
   "execution_count": 36,
   "metadata": {},
   "outputs": [],
   "source": [
    "#recording History \n",
    "import json\n",
    "with open('training_history.json','w') as f:\n",
    "    json.dump(train_history.history,f)"
   ]
  },
  {
   "cell_type": "code",
   "execution_count": 37,
   "metadata": {},
   "outputs": [
    {
     "name": "stdout",
     "output_type": "stream",
     "text": [
      "dict_keys(['loss', 'accuracy', 'val_loss', 'val_accuracy'])\n"
     ]
    }
   ],
   "source": [
    "print(train_history.history.keys())"
   ]
  },
  {
   "cell_type": "markdown",
   "metadata": {},
   "source": [
    "<h2>Calculating Accuracy of Model Achieved on Validation set<h2>"
   ]
  },
  {
   "cell_type": "code",
   "execution_count": 38,
   "metadata": {},
   "outputs": [
    {
     "name": "stdout",
     "output_type": "stream",
     "text": [
      "validation set Accuracy: 89.45869207382202 %\n"
     ]
    }
   ],
   "source": [
    "print('validation set Accuracy: {} %'.format(train_history.history['val_accuracy'][-1]*100))"
   ]
  },
  {
   "cell_type": "markdown",
   "metadata": {},
   "source": [
    "<h2>Accuracy Visualization<h2>"
   ]
  },
  {
   "cell_type": "markdown",
   "metadata": {},
   "source": [
    "<h2>Training Visualization"
   ]
  },
  {
   "cell_type": "code",
   "execution_count": 39,
   "metadata": {},
   "outputs": [
    {
     "data": {
      "image/png": "[encoded data removed]",
      "text/plain": [
       "<Figure size 640x480 with 1 Axes>"
      ]
     },
     "metadata": {},
     "output_type": "display_data"
    }
   ],
   "source": [
    "epochs = [i for i in range(1,33)]\n",
    "plt.plot(epochs,train_history.history['accuracy'])\n",
    "plt.xlabel('Epochs')\n",
    "plt.ylabel('Training Accuracy')\n",
    "plt.title('Visulization of Training Accuracy result')\n",
    "plt.show()"
   ]
  },
  {
   "cell_type": "markdown",
   "metadata": {},
   "source": [
    "<h2>Validation Accuracy<h2>"
   ]
  },
  {
   "cell_type": "code",
   "execution_count": 40,
   "metadata": {},
   "outputs": [
    {
     "data": {
      "image/png": "[encoded data removed]",
      "text/plain": [
       "<Figure size 640x480 with 1 Axes>"
      ]
     },
     "metadata": {},
     "output_type": "display_data"
    }
   ],
   "source": [
    "plt.plot(epochs,train_history.history['val_accuracy'],color='blue')\n",
    "plt.xlabel('No. of Epochs')\n",
    "plt.ylabel('Validation Accuracy')\n",
    "plt.title('Visulization of Validation Accuracy Result')\n",
    "plt.show()"
   ]
  },
  {
   "cell_type": "code",
   "execution_count": 41,
   "metadata": {},
   "outputs": [
    {
     "name": "stdout",
     "output_type": "stream",
     "text": [
      "98/98 [==============================] - 24s 217ms/step - loss: 0.3686 - accuracy: 0.9082\n"
     ]
    }
   ],
   "source": [
    "training_loss,training_accuracy = cnn.evaluate(training_set)"
   ]
  },
  {
   "cell_type": "code",
   "execution_count": 42,
   "metadata": {},
   "outputs": [
    {
     "data": {
      "text/plain": [
       "0.9081861972808838"
      ]
     },
     "execution_count": 42,
     "metadata": {},
     "output_type": "execute_result"
    }
   ],
   "source": [
    "training_accuracy"
   ]
  },
  {
   "cell_type": "code",
   "execution_count": 43,
   "metadata": {},
   "outputs": [
    {
     "name": "stdout",
     "output_type": "stream",
     "text": [
      "11/11 [==============================] - 4s 90ms/step - loss: 1.0539 - accuracy: 0.8946\n"
     ]
    }
   ],
   "source": [
    "val_loss,val_accuracy = cnn.evaluate(validation_set)"
   ]
  },
  {
   "cell_type": "code",
   "execution_count": 44,
   "metadata": {},
   "outputs": [
    {
     "name": "stdout",
     "output_type": "stream",
     "text": [
      "Found 359 files belonging to 36 classes.\n"
     ]
    }
   ],
   "source": [
    "test_set = tf.keras.utils.image_dataset_from_directory(\n",
    "    'G:\\\\Fruit and veg\\\\Fruit_recognition\\\\archive (1)\\\\test',\n",
    "    labels='inferred',  #labels are generated from the directory structure\n",
    "    label_mode='categorical', #means data can be anything img,strings,etc encode as a categorical vector\n",
    "    class_names=None, #to control order\n",
    "    color_mode='rgb', #type of image color\n",
    "    batch_size=32, #the number of samples  to estimate the error gradient before the model weight are updated\n",
    "    image_size=(64, 64), #image size pixel x pixel\n",
    "    shuffle=True, #select samples at random\n",
    "    seed= None, #to save the seed of model so it can produce same result\n",
    "    validation_split= None, #to split data for validation\n",
    "    subset= None, #this return dataset of training data or validation data or both if validation is set\n",
    "    interpolation='bilinear', #to estimate the values of unknown data points that fall in between existing, known data points.\n",
    "    follow_links=False, #if you want to follow other links\n",
    "    crop_to_aspect_ratio=False #will change the aspect ratio of an image if it doesn't match the targeted images ratio (when True)\n",
    ")"
   ]
  },
  {
   "cell_type": "code",
   "execution_count": 45,
   "metadata": {},
   "outputs": [
    {
     "name": "stdout",
     "output_type": "stream",
     "text": [
      "98/98 [==============================] - 24s 223ms/step - loss: 0.3686 - accuracy: 0.9082\n"
     ]
    }
   ],
   "source": [
    "test_loss,test_accuracy = cnn.evaluate(training_set)"
   ]
  },
  {
   "cell_type": "code",
   "execution_count": 46,
   "metadata": {},
   "outputs": [
    {
     "data": {
      "text/plain": [
       "0.9081861972808838"
      ]
     },
     "execution_count": 46,
     "metadata": {},
     "output_type": "execute_result"
    }
   ],
   "source": [
    "test_accuracy"
   ]
  }
 ],
 "metadata": {
  "kernelspec": {
   "display_name": "Python 3",
   "language": "python",
   "name": "python3"
  },
  "language_info": {
   "codemirror_mode": {
    "name": "ipython",
    "version": 3
   },
   "file_extension": ".py",
   "mimetype": "text/x-python",
   "name": "python",
   "nbconvert_exporter": "python",
   "pygments_lexer": "ipython3",
   "version": "3.11.3"
  },
  "orig_nbformat": 4
 },
 "nbformat": 4,
 "nbformat_minor": 2
}
